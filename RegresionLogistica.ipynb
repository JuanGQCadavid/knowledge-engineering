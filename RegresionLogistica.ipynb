{
  "nbformat": 4,
  "nbformat_minor": 0,
  "metadata": {
    "colab": {
      "name": "RegresionLogistica.ipynb",
      "version": "0.3.2",
      "provenance": [],
      "private_outputs": true,
      "collapsed_sections": [],
      "include_colab_link": true
    },
    "kernelspec": {
      "name": "python3",
      "display_name": "Python 3"
    },
    "accelerator": "GPU"
  },
  "cells": [
    {
      "cell_type": "markdown",
      "metadata": {
        "id": "view-in-github",
        "colab_type": "text"
      },
      "source": [
        "<a href=\"https://colab.research.google.com/github/JuanGQCadavid/knowledge-engineering/blob/master/RegresionLogistica.ipynb\" target=\"_parent\"><img src=\"https://colab.research.google.com/assets/colab-badge.svg\" alt=\"Open In Colab\"/></a>"
      ]
    },
    {
      "metadata": {
        "id": "tC-it1En4UXi",
        "colab_type": "text"
      },
      "cell_type": "markdown",
      "source": [
        "### The Iris Dataset\n",
        "Clasificación usando **The Iris Dataset**, el cual consiste en datos para 3 tipos diferentes de iris (Setosa, Versicolour y Virginica). Cuenta con 4 características (largo y ancho del sépalo y del pétalo) y 150 registros."
      ]
    },
    {
      "metadata": {
        "id": "E_Zf_gTQQbd7",
        "colab_type": "text"
      },
      "cell_type": "markdown",
      "source": [
        "**Clasificador**"
      ]
    },
    {
      "metadata": {
        "id": "qid8hadBH2vU",
        "colab_type": "code",
        "colab": {}
      },
      "cell_type": "code",
      "source": [
        "def classify(features_train, labels_train):\n",
        "    from sklearn import linear_model\n",
        "    clf = linear_model.LogisticRegression()\n",
        "    clf.fit(features_train, labels_train)\n",
        "    return clf"
      ],
      "execution_count": 0,
      "outputs": []
    },
    {
      "metadata": {
        "id": "CeTpwJmjgZlh",
        "colab_type": "text"
      },
      "cell_type": "markdown",
      "source": [
        "**Minimos y maximos**"
      ]
    },
    {
      "metadata": {
        "id": "8hcxiw7UgiNt",
        "colab_type": "code",
        "colab": {}
      },
      "cell_type": "code",
      "source": [
        "def limites(data):\n",
        "    min_width = data[:,0].min()\n",
        "    max_width = data[:,0].max()\n",
        "    \n",
        "    min_length = data[:,1].min()\n",
        "    max_length = data[:,1].max()\n",
        "    \n",
        "    return min_width,max_width,min_length,max_length"
      ],
      "execution_count": 0,
      "outputs": []
    },
    {
      "metadata": {
        "id": "PQxkjet8QV9-",
        "colab_type": "text"
      },
      "cell_type": "markdown",
      "source": [
        "**Visualizador de resultados**"
      ]
    },
    {
      "metadata": {
        "id": "l8ihB2wuPjlv",
        "colab_type": "code",
        "colab": {}
      },
      "cell_type": "code",
      "source": [
        "import matplotlib.pyplot as plt\n",
        "import pylab as pl\n",
        "import numpy as np\n",
        "\n",
        "def plot(model,x_min,x_max,y_min,y_max, h):\n",
        " \n",
        "  \n",
        "  #Plot results\n",
        "  '''\n",
        "  x_min = np.amin(x); x_max = np.amax(x)\n",
        "  y_min = np.amin(y); y_max = np.amax(y)\n",
        "  '''\n",
        "  \n",
        "  # Plot the decision boundary. For that, we will assign a color to each\n",
        "  # point in the mesh [x_min, m_max]x[y_min, y_max].\n",
        "  \n",
        "  data_xx, data_yy = np.meshgrid(\n",
        "                       np.arange(x_min, x_max, h), \n",
        "                       np.arange(y_min, y_max, h)\n",
        "                     )\n",
        "  #Ravel aplana, np.c_ linkea x,y \n",
        "  model_data = np.c_[data_xx.ravel(), data_yy.ravel()]\n",
        "  \n",
        "\n",
        "  model_Z = model.predict(model_data)\n",
        "  print(model_Z)\n",
        "  \n",
        "  # Put the sepal's result into a color plot\n",
        "  \n",
        "  plt.figure()\n",
        "  \n",
        "  model_Z = model_Z.reshape(data_xx.shape)\n",
        "  print(model_Z)\n",
        "  \n",
        "  plt.xlim(data_xx.min(), data_xx.max())\n",
        "  plt.ylim(data_yy.min(), data_yy.max())\n",
        "  \n",
        "  plt.pcolormesh(data_xx, data_yy, model_Z, cmap=pl.cm.seismic)\n",
        "  \n",
        "  return plt.figure()\n",
        "\n",
        "  \n",
        "  #Plot also the test points\n",
        "  # TO DO\n",
        "  "
      ],
      "execution_count": 0,
      "outputs": []
    },
    {
      "metadata": {
        "id": "d639Jxs_QeLa",
        "colab_type": "text"
      },
      "cell_type": "markdown",
      "source": [
        "**Programa Principal**"
      ]
    },
    {
      "metadata": {
        "id": "EVYU8GXB4VuJ",
        "colab_type": "code",
        "colab": {}
      },
      "cell_type": "code",
      "source": [
        "from sklearn import datasets\n",
        "from sklearn.model_selection import train_test_split\n",
        "import matplotlib.pyplot as plt\n",
        "\n",
        "iris = datasets.load_iris()\n",
        "sepal = iris.data[:, :2]\n",
        "petal = iris.data[:, 2:]\n",
        "y = iris.target\n",
        "data = iris.data\n",
        "\n",
        "# Partition Data sets train/test\n",
        "sepal_x_train, sepal_x_test, sepal_y_train, sepal_y_test = train_test_split(sepal, y, test_size=0.3)\n",
        "petal_x_train, petal_x_test, petal_y_train, petal_y_test = train_test_split(petal, y, test_size=0.3)\n",
        "\n",
        "#Train\n",
        "sepal_model = classify(sepal_x_train, sepal_y_train)\n",
        "petal_model = classify(petal_x_train, petal_y_train)\n",
        "\n",
        "\n",
        "#Accuracy\n",
        "sepal_score = sepal_model.score(sepal_x_test, sepal_y_test)\n",
        "petal_score = petal_model.score(petal_x_test, petal_y_test)\n",
        "\n",
        "print('Sepal Score', sepal_score)\n",
        "print('Petal Score', petal_score)\n",
        "\n",
        "\n",
        "\n",
        "#Plot def plot(model,x_min,x_max,y_min,y_max h):\n",
        "print(\"Sepal Mode\")\n",
        "\n",
        "x_min,x_max,y_min,y_max = limites(sepal)\n",
        "plot(sepal_model,x_min,x_max,y_min,y_max, h = 0.01)\n",
        "\n",
        "print(\"Petal Mode\")\n",
        "\n",
        "x_min,x_max,y_min,y_max = limites(petal)\n",
        "plot(petal_model,x_min,x_max,y_min,y_max, h = 0.01)\n",
        "\n",
        "'''\n",
        "plt.figure(1)\n",
        "plt.scatter(sepal[:, 0], sepal[:, 1], c=y, cmap=plt.cm.Set1, edgecolor='k')\n",
        "plt.xlabel('Largo del sépalo')\n",
        "plt.ylabel('Ancho del sépalo')\n",
        "\n",
        "plt.figure(2)\n",
        "plt.scatter(petal[:, 0], petal[:, 1], c=y, cmap=plt.cm.Set1, edgecolor='k')\n",
        "plt.xlabel('Largo del pétalo')\n",
        "plt.ylabel('Ancho del pétalo')\n",
        "'''\n",
        "\n"
      ],
      "execution_count": 0,
      "outputs": []
    },
    {
      "metadata": {
        "id": "vr-jw_ek4bGl",
        "colab_type": "code",
        "colab": {}
      },
      "cell_type": "code",
      "source": [
        ""
      ],
      "execution_count": 0,
      "outputs": []
    }
  ]
}